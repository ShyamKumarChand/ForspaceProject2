{
 "cells": [
  {
   "cell_type": "code",
   "execution_count": 19,
   "metadata": {},
   "outputs": [],
   "source": [
    "import numpy as np\n",
    "import pandas as pd\n",
    "import matplotlib.pyplot as plt\n",
    "import sys"
   ]
  },
  {
   "cell_type": "code",
   "execution_count": 20,
   "metadata": {},
   "outputs": [],
   "source": [
    "import csv"
   ]
  },
  {
   "cell_type": "code",
   "execution_count": 21,
   "metadata": {},
   "outputs": [],
   "source": [
    "Transitions = {}\n",
    "Reward = {}"
   ]
  },
  {
   "cell_type": "code",
   "execution_count": 22,
   "metadata": {},
   "outputs": [],
   "source": [
    "if len(sys.argv)>1:\n",
    "    gamma = sys.argv[-1]\n",
    "    #gamma_f = np.astype()\n",
    "else:\n",
    "    gamma = 0.9"
   ]
  },
  {
   "cell_type": "code",
   "execution_count": 23,
   "metadata": {},
   "outputs": [],
   "source": [
    "if len(sys.argv)>2:\n",
    "    epsilon = sys.argv[2]\n",
    "    #gamma_f = np.astype()\n",
    "else:\n",
    "    epsilon = 0.001"
   ]
  },
  {
   "cell_type": "code",
   "execution_count": 24,
   "metadata": {},
   "outputs": [],
   "source": [
    "Tran = \"https://raw.githubusercontent.com/reddyprasade/Machine-Learning-Problems-DataSets/master/Reinforcement/transitions.csv\"\n",
    "Rew = \"https://raw.githubusercontent.com/reddyprasade/Machine-Learning-Problems-DataSets/master/Reinforcement/rewards.csv\""
   ]
  },
  {
   "cell_type": "code",
   "execution_count": 25,
   "metadata": {},
   "outputs": [
    {
     "data": {
      "text/html": [
       "<div>\n",
       "<style scoped>\n",
       "    .dataframe tbody tr th:only-of-type {\n",
       "        vertical-align: middle;\n",
       "    }\n",
       "\n",
       "    .dataframe tbody tr th {\n",
       "        vertical-align: top;\n",
       "    }\n",
       "\n",
       "    .dataframe thead th {\n",
       "        text-align: right;\n",
       "    }\n",
       "</style>\n",
       "<table border=\"1\" class=\"dataframe\">\n",
       "  <thead>\n",
       "    <tr style=\"text-align: right;\">\n",
       "      <th></th>\n",
       "      <th>(3 0)</th>\n",
       "      <th>R</th>\n",
       "      <th>(3 0).1</th>\n",
       "      <th>0.8</th>\n",
       "    </tr>\n",
       "  </thead>\n",
       "  <tbody>\n",
       "    <tr>\n",
       "      <th>0</th>\n",
       "      <td>(3 0)</td>\n",
       "      <td>R</td>\n",
       "      <td>(3 0)</td>\n",
       "      <td>0.1</td>\n",
       "    </tr>\n",
       "    <tr>\n",
       "      <th>1</th>\n",
       "      <td>(3 0)</td>\n",
       "      <td>R</td>\n",
       "      <td>(3 1)</td>\n",
       "      <td>0.1</td>\n",
       "    </tr>\n",
       "    <tr>\n",
       "      <th>2</th>\n",
       "      <td>(3 0)</td>\n",
       "      <td>U</td>\n",
       "      <td>(3 1)</td>\n",
       "      <td>0.8</td>\n",
       "    </tr>\n",
       "    <tr>\n",
       "      <th>3</th>\n",
       "      <td>(3 0)</td>\n",
       "      <td>U</td>\n",
       "      <td>(3 0)</td>\n",
       "      <td>0.1</td>\n",
       "    </tr>\n",
       "    <tr>\n",
       "      <th>4</th>\n",
       "      <td>(3 0)</td>\n",
       "      <td>U</td>\n",
       "      <td>(2 0)</td>\n",
       "      <td>0.1</td>\n",
       "    </tr>\n",
       "    <tr>\n",
       "      <th>...</th>\n",
       "      <td>...</td>\n",
       "      <td>...</td>\n",
       "      <td>...</td>\n",
       "      <td>...</td>\n",
       "    </tr>\n",
       "    <tr>\n",
       "      <th>104</th>\n",
       "      <td>(0 2)</td>\n",
       "      <td>D</td>\n",
       "      <td>(0 2)</td>\n",
       "      <td>0.1</td>\n",
       "    </tr>\n",
       "    <tr>\n",
       "      <th>105</th>\n",
       "      <td>(0 2)</td>\n",
       "      <td>D</td>\n",
       "      <td>(1 2)</td>\n",
       "      <td>0.1</td>\n",
       "    </tr>\n",
       "    <tr>\n",
       "      <th>106</th>\n",
       "      <td>(0 2)</td>\n",
       "      <td>L</td>\n",
       "      <td>(0 2)</td>\n",
       "      <td>0.8</td>\n",
       "    </tr>\n",
       "    <tr>\n",
       "      <th>107</th>\n",
       "      <td>(0 2)</td>\n",
       "      <td>L</td>\n",
       "      <td>(0 2)</td>\n",
       "      <td>0.1</td>\n",
       "    </tr>\n",
       "    <tr>\n",
       "      <th>108</th>\n",
       "      <td>(0 2)</td>\n",
       "      <td>L</td>\n",
       "      <td>(0 1)</td>\n",
       "      <td>0.1</td>\n",
       "    </tr>\n",
       "  </tbody>\n",
       "</table>\n",
       "<p>109 rows × 4 columns</p>\n",
       "</div>"
      ],
      "text/plain": [
       "     (3 0)  R (3 0).1  0.8\n",
       "0    (3 0)  R   (3 0)  0.1\n",
       "1    (3 0)  R   (3 1)  0.1\n",
       "2    (3 0)  U   (3 1)  0.8\n",
       "3    (3 0)  U   (3 0)  0.1\n",
       "4    (3 0)  U   (2 0)  0.1\n",
       "..     ... ..     ...  ...\n",
       "104  (0 2)  D   (0 2)  0.1\n",
       "105  (0 2)  D   (1 2)  0.1\n",
       "106  (0 2)  L   (0 2)  0.8\n",
       "107  (0 2)  L   (0 2)  0.1\n",
       "108  (0 2)  L   (0 1)  0.1\n",
       "\n",
       "[109 rows x 4 columns]"
      ]
     },
     "execution_count": 25,
     "metadata": {},
     "output_type": "execute_result"
    }
   ],
   "source": [
    "reader = pd.read_csv(Tran)\n",
    "reader"
   ]
  },
  {
   "cell_type": "code",
   "execution_count": 26,
   "metadata": {},
   "outputs": [],
   "source": [
    "def read_file():\n",
    "    #read transitions from file and store it to a variable\n",
    "    with open('Downloads/transitions.csv', 'r') as csvfile:\n",
    "        reader = csv.reader(csvfile, delimiter=',')\n",
    "        for row in reader:\n",
    "            if row[0] in Transitions:\n",
    "                if row[1] in Transitions[row[0]]:\n",
    "                    Transitions[row[0]][row[1]].append((float(row[3]), row[2]))\n",
    "                else:\n",
    "                    Transitions[row[0]][row[1]] = [(float(row[3]), row[2])]\n",
    "            else:\n",
    "                Transitions[row[0]] = {row[1]:[(float(row[3]),row[2])]}\n",
    "\n",
    "    #read rewards file and save it to a variable\n",
    "    with open('Downloads/rewards.csv', 'r') as csvfile:\n",
    "        reader = csv.reader(csvfile, delimiter=',')\n",
    "        for row in reader:\n",
    "            Reward[row[0]] = float(row[1]) if row[1] != 'None' else None\n",
    "\n",
    "read_file()"
   ]
  },
  {
   "cell_type": "code",
   "execution_count": 27,
   "metadata": {},
   "outputs": [],
   "source": [
    "class MarkovDecisionProcess():\n",
    "  \"\"\" Markov Decision Process defined by a states, action,  transition model and reward Funcation.\"\"\"\n",
    "  def __init__(self,transition={}, reward={}, gamma=.9):\n",
    "\n",
    "    # collect all nodes from the transition models\n",
    "    self.states = transition.keys()\n",
    "    #initialize transition\n",
    "    self.transition = transition\n",
    "    #initialize reward\n",
    "    self.reward = reward\n",
    "    #initialize gamma\n",
    "    self.gamma = gamma\n",
    "  \n",
    "  def R():\n",
    "    \"\"\"return reward for this state.\"\"\"\n",
    "    return self\n",
    " \n",
    "  def actions(self, state):\n",
    "    \"\"\"return set of actions that can be performed in this state\"\"\"\n",
    "    return self.transition[state].keys()\n",
    "\n",
    "  def T(self, state, action):\n",
    "      \"\"\"for a state and an action, return a list of (probability, result-state) pairs.\"\"\"\n",
    "      return self.transition[state][action]\n",
    "mdp = MarkovDecisionProcess(transition=Transitions, reward=Reward)"
   ]
  },
  {
   "cell_type": "code",
   "execution_count": 28,
   "metadata": {},
   "outputs": [],
   "source": [
    "def value_iteration():\n",
    "    \"\"\"\n",
    "    Solving the MDP by value iteration.\n",
    "    returns utility values for states after convergence\n",
    "    \"\"\"\n",
    "    states = mdp.states\n",
    "    actions = mdp.actions\n",
    "    T = mdp.T\n",
    "    R = mdp.R\n",
    "\n",
    "    #initialize value of all the states to 0 (this is k=0 case)\n",
    "    V1 = {s: 0 for s in states}\n",
    "    while True:\n",
    "        V = V1.copy()\n",
    "        delta = 0\n",
    "        for s in states:\n",
    "            #Bellman update, update the utility values\n",
    "            V1[s] = R(s) + gamma * max([ sum([p * V[s1] for (p, s1) in T(s, a)]) for a in actions(s)])\n",
    "            #calculate maximum difference in value\n",
    "            delta = max(delta, abs(V1[s] - V[s]))\n",
    "\n",
    "        #check for convergence, if values converged then return V\n",
    "        if delta < epsilon * (1 - gamma) / gamma:\n",
    "            return V\n"
   ]
  },
  {
   "cell_type": "code",
   "execution_count": 29,
   "metadata": {},
   "outputs": [],
   "source": [
    "def best_policy(V):\n",
    "    \"\"\"\n",
    "    Given an MDP and a utility values V, determine the best policy as a mapping from state to action.\n",
    "    returns policies which is dictionary of the form {state1: action1, state2: action2}\n",
    "    \"\"\"\n",
    "    states = mdp.states\n",
    "    actions = mdp.actions\n",
    "    pi = {}\n",
    "    for s in states:\n",
    "        pi[s] = max(actions(s), key=lambda a: expected_utility(a, s, V))\n",
    "    return pi\n"
   ]
  },
  {
   "cell_type": "code",
   "execution_count": 30,
   "metadata": {},
   "outputs": [],
   "source": [
    "def expected_utility(a, s, V):\n",
    "    \"\"\"returns the expected utility of doing a in state s, according to the MDP and V.\"\"\"\n",
    "    T = mdp.T\n",
    "    return sum([p * V[s1] for (p, s1) in mdp.T(s, a)])\n"
   ]
  },
  {
   "cell_type": "code",
   "execution_count": 36,
   "metadata": {},
   "outputs": [
    {
     "ename": "TypeError",
     "evalue": "R() takes 0 positional arguments but 1 was given",
     "output_type": "error",
     "traceback": [
      "\u001b[1;31m---------------------------------------------------------------------------\u001b[0m",
      "\u001b[1;31mTypeError\u001b[0m                                 Traceback (most recent call last)",
      "\u001b[1;32m<ipython-input-36-469371d86350>\u001b[0m in \u001b[0;36m<module>\u001b[1;34m\u001b[0m\n\u001b[1;32m----> 1\u001b[1;33m \u001b[0mmdp\u001b[0m\u001b[1;33m.\u001b[0m\u001b[0mR\u001b[0m\u001b[1;33m(\u001b[0m\u001b[1;33m)\u001b[0m\u001b[1;33m\u001b[0m\u001b[1;33m\u001b[0m\u001b[0m\n\u001b[0m",
      "\u001b[1;31mTypeError\u001b[0m: R() takes 0 positional arguments but 1 was given"
     ]
    }
   ],
   "source": [
    "mdp.R()"
   ]
  },
  {
   "cell_type": "code",
   "execution_count": 33,
   "metadata": {},
   "outputs": [
    {
     "ename": "NameError",
     "evalue": "name 'states' is not defined",
     "output_type": "error",
     "traceback": [
      "\u001b[1;31m---------------------------------------------------------------------------\u001b[0m",
      "\u001b[1;31mNameError\u001b[0m                                 Traceback (most recent call last)",
      "\u001b[1;32m<ipython-input-33-fb01c324375f>\u001b[0m in \u001b[0;36m<module>\u001b[1;34m\u001b[0m\n\u001b[1;32m----> 1\u001b[1;33m \u001b[0mexpected_utility\u001b[0m\u001b[1;33m(\u001b[0m\u001b[0mmdp\u001b[0m\u001b[1;33m.\u001b[0m\u001b[0mactions\u001b[0m\u001b[1;33m,\u001b[0m\u001b[0mmdp\u001b[0m\u001b[1;33m.\u001b[0m\u001b[0mstates\u001b[0m\u001b[1;33m,\u001b[0m\u001b[0mV1\u001b[0m \u001b[1;33m=\u001b[0m \u001b[1;33m{\u001b[0m\u001b[0ms\u001b[0m\u001b[1;33m:\u001b[0m \u001b[1;36m0\u001b[0m \u001b[1;32mfor\u001b[0m \u001b[0ms\u001b[0m \u001b[1;32min\u001b[0m \u001b[0mstates\u001b[0m\u001b[1;33m}\u001b[0m\u001b[1;33m)\u001b[0m\u001b[1;33m\u001b[0m\u001b[1;33m\u001b[0m\u001b[0m\n\u001b[0m",
      "\u001b[1;31mNameError\u001b[0m: name 'states' is not defined"
     ]
    }
   ],
   "source": [
    "expected_utility(mdp.actions,mdp.states)"
   ]
  },
  {
   "cell_type": "code",
   "execution_count": 34,
   "metadata": {},
   "outputs": [
    {
     "ename": "NameError",
     "evalue": "name 'states' is not defined",
     "output_type": "error",
     "traceback": [
      "\u001b[1;31m---------------------------------------------------------------------------\u001b[0m",
      "\u001b[1;31mNameError\u001b[0m                                 Traceback (most recent call last)",
      "\u001b[1;32m<ipython-input-34-b3d8f6a5d076>\u001b[0m in \u001b[0;36m<module>\u001b[1;34m\u001b[0m\n\u001b[1;32m----> 1\u001b[1;33m \u001b[0mV1\u001b[0m \u001b[1;33m=\u001b[0m \u001b[1;33m{\u001b[0m\u001b[0ms\u001b[0m\u001b[1;33m:\u001b[0m \u001b[1;36m0\u001b[0m \u001b[1;32mfor\u001b[0m \u001b[0ms\u001b[0m \u001b[1;32min\u001b[0m \u001b[0mstates\u001b[0m\u001b[1;33m}\u001b[0m\u001b[1;33m\u001b[0m\u001b[1;33m\u001b[0m\u001b[0m\n\u001b[0m",
      "\u001b[1;31mNameError\u001b[0m: name 'states' is not defined"
     ]
    }
   ],
   "source": [
    "V1 = {s: 0 for s in states}"
   ]
  },
  {
   "cell_type": "code",
   "execution_count": null,
   "metadata": {},
   "outputs": [],
   "source": []
  }
 ],
 "metadata": {
  "kernelspec": {
   "display_name": "Python 3",
   "language": "python",
   "name": "python3"
  },
  "language_info": {
   "codemirror_mode": {
    "name": "ipython",
    "version": 3
   },
   "file_extension": ".py",
   "mimetype": "text/x-python",
   "name": "python",
   "nbconvert_exporter": "python",
   "pygments_lexer": "ipython3",
   "version": "3.6.8"
  }
 },
 "nbformat": 4,
 "nbformat_minor": 4
}
